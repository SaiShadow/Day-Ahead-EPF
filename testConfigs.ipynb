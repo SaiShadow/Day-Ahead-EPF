{
 "cells": [
  {
   "cell_type": "code",
   "id": "initial_id",
   "metadata": {
    "collapsed": true,
    "ExecuteTime": {
     "end_time": "2024-11-21T16:30:52.051092Z",
     "start_time": "2024-11-21T16:30:50.094689Z"
    }
   },
   "source": [
    "import torch\n",
    "print(torch.backends.mps.is_available())  # Should return True\n",
    "print(torch.backends.mps.is_built())      # Should also return True"
   ],
   "outputs": [
    {
     "name": "stdout",
     "output_type": "stream",
     "text": [
      "True\n",
      "True\n"
     ]
    }
   ],
   "execution_count": 1
  },
  {
   "metadata": {
    "ExecuteTime": {
     "end_time": "2024-11-21T16:31:00.249839Z",
     "start_time": "2024-11-21T16:30:57.071327Z"
    }
   },
   "cell_type": "code",
   "source": [
    "import torch\n",
    "\n",
    "device = torch.device(\"mps\") if torch.backends.mps.is_available() else torch.device(\"cpu\")\n",
    "print(f\"Using device: {device}\")\n",
    "\n",
    "# Simple tensor operation on MPS\n",
    "x = torch.rand(3, 3).to(device)\n",
    "y = torch.rand(3, 3).to(device)\n",
    "z = x + y\n",
    "print(z)"
   ],
   "id": "3cf8eedd811c6b4d",
   "outputs": [
    {
     "name": "stdout",
     "output_type": "stream",
     "text": [
      "Using device: mps\n",
      "tensor([[1.3045, 0.7254, 0.7515],\n",
      "        [0.9464, 0.9218, 0.9971],\n",
      "        [1.5819, 0.6855, 1.0223]], device='mps:0')\n"
     ]
    }
   ],
   "execution_count": 2
  }
 ],
 "metadata": {
  "kernelspec": {
   "display_name": "Python 3",
   "language": "python",
   "name": "python3"
  },
  "language_info": {
   "codemirror_mode": {
    "name": "ipython",
    "version": 2
   },
   "file_extension": ".py",
   "mimetype": "text/x-python",
   "name": "python",
   "nbconvert_exporter": "python",
   "pygments_lexer": "ipython2",
   "version": "2.7.6"
  }
 },
 "nbformat": 4,
 "nbformat_minor": 5
}
