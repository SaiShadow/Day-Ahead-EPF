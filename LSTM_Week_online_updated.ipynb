{
 "cells": [
  {
   "cell_type": "code",
   "id": "dbebb8d151be87ab",
   "metadata": {},
   "source": [
    "import requests\n",
    "import pandas as pd\n",
    "\n",
    "# Define date ranges\n",
    "# One shot learning\n",
    "train_start_date = '2023-01-01'\n",
    "train_end_date = '2024-01-01'\n",
    "test_start_date = '2024-01-01'\n",
    "test_end_date = '2024-02-01'\n",
    "\n",
    "# Fetch data from the API for training and testing\n",
    "url_train = f\"https://api.energy-charts.info/price?bzn=DE-LU&start={train_start_date}&end={train_end_date}\"\n",
    "url_test = f\"https://api.energy-charts.info/price?bzn=DE-LU&start={test_start_date}&end={test_end_date}\"\n",
    "\n",
    "response_train = requests.get(url_train)\n",
    "response_test = requests.get(url_test)\n",
    "\n",
    "data_train = response_train.json()\n",
    "data_test = response_test.json()\n",
    "\n",
    "# Convert to DataFrame\n",
    "train_df = pd.DataFrame({\n",
    "    'timestamp': pd.to_datetime(data_train['unix_seconds'], unit='s'),\n",
    "    'price': data_train['price']\n",
    "})\n",
    "test_df = pd.DataFrame({\n",
    "    'timestamp': pd.to_datetime(data_test['unix_seconds'], unit='s'),\n",
    "    'price': data_test['price']\n",
    "})\n",
    "\n",
    "# Clean the data (remove rows with null prices)\n",
    "train_df = train_df.dropna()\n",
    "test_df = test_df.dropna()\n",
    "\n",
    "# Save DataFrames to CSV\n",
    "train_df.to_csv('train_data.csv', index=False)\n",
    "test_df.to_csv('test_data.csv', index=False)\n"
   ],
   "outputs": [],
   "execution_count": null
  },
  {
   "cell_type": "code",
   "id": "ba6135d372735730",
   "metadata": {},
   "source": [
    "\n",
    "import pandas as pd\n",
    "# Load data from CSV\n",
    "train_df = pd.read_csv('train_data.csv')\n",
    "test_df = pd.read_csv('test_data.csv')\n",
    "\n",
    "# Convert timestamp to datetime format\n",
    "train_df['timestamp'] = pd.to_datetime(train_df['timestamp'])\n",
    "test_df['timestamp'] = pd.to_datetime(test_df['timestamp'])\n",
    "\n",
    "# Rename columns for NeuralForecast\n",
    "train_df = train_df.rename(columns={'timestamp': 'ds', 'price': 'y'})\n",
    "test_df = test_df.rename(columns={'timestamp': 'ds', 'price': 'y'})\n",
    "\n",
    "# Add unique_id column\n",
    "train_df['unique_id'] = 'electricity_prices'\n",
    "test_df['unique_id'] = 'electricity_prices'\n",
    "\n",
    "# Check date ranges\n",
    "print(\"Last date in train_df:\", train_df['ds'].max())\n",
    "print(\"First date in test_df:\", test_df['ds'].min())"
   ],
   "outputs": [],
   "execution_count": null
  },
  {
   "cell_type": "code",
   "id": "1bfd4ffc9892fd9f",
   "metadata": {},
   "source": [
    "\n",
    "from neuralforecast import NeuralForecast\n",
    "from neuralforecast.models import LSTM\n",
    "\n",
    "horizon = 24  # Forecasting the next day's 24 hours\n",
    "input_size = 24  # Using only the previous 24 hours as input\n",
    "\n",
    "model_name = 'LSTM'\n",
    "\n",
    "# Set up the model with horizon = 24 (for day-ahead hourly forecasts)\n",
    "models = [\n",
    "    LSTM(\n",
    "        h=horizon,  # Forecast horizon set to 24 hours\n",
    "        input_size=input_size,  # Input size set to 24 hours (1 day)\n",
    "        max_steps=2000,\n",
    "        scaler_type='standard',\n",
    "        encoder_n_layers=2,\n",
    "        encoder_hidden_size=100,\n",
    "        decoder_hidden_size=512,\n",
    "    ),\n",
    "]\n",
    "\n",
    "# Train the model on the entire training data initially\n",
    "nf = NeuralForecast(models=models, freq='h')\n",
    "nf.fit(df=train_df)\n"
   ],
   "outputs": [],
   "execution_count": null
  },
  {
   "cell_type": "code",
   "id": "79ceb9e125dad575",
   "metadata": {
    "jupyter": {
     "is_executing": true
    }
   },
   "source": [
    "from tqdm import tqdm\n",
    "import pandas as pd\n",
    "\n",
    "# Define date range for the test period\n",
    "daterange = pd.date_range(start=test_df['ds'].min() + pd.Timedelta(hours=24),\n",
    "                          end=test_df['ds'].max(), freq='D')\n",
    "\n",
    "# Initialize an empty DataFrame to store predictions\n",
    "forecast_results = []\n",
    "\n",
    "# Online training and forecasting loop\n",
    "for d in tqdm(daterange, desc=\"Online training and forecasting\"):\n",
    "    # Select input data for prediction (previous 24 hours)\n",
    "    test_input = test_df[(test_df['ds'] >= d - pd.Timedelta(hours=24)) & (test_df['ds'] < d)]\n",
    "\n",
    "    # Skip iteration if no input data is found\n",
    "    if test_input.empty:\n",
    "        print(f\"Skipping prediction for {d} due to empty input.\")\n",
    "        continue\n",
    "\n",
    "    # Generate prediction for the next day\n",
    "    prediction = nf.predict(test_input)\n",
    "\n",
    "    # Extract actual data for the predicted day\n",
    "    actual_data = test_df[(test_df['ds'] >= d) & (test_df['ds'] < d + pd.Timedelta(hours=24))]\n",
    "\n",
    "    # Merge predictions with actual data\n",
    "    if not actual_data.empty:\n",
    "        # Ensure both DataFrames align properly by resetting indices\n",
    "        prediction = prediction.reset_index(drop=True)\n",
    "        actual_data = actual_data.reset_index(drop=True)\n",
    "\n",
    "        # Adding actual values to the predictions\n",
    "        prediction['y_actual'] = actual_data['y'].values\n",
    "        forecast_results.append(prediction)\n",
    "\n",
    "        # Update the model with actual data (online training step)\n",
    "        nf.fit(df=actual_data)\n",
    "\n",
    "# Combine all predictions into a single DataFrame\n",
    "forecast_df = pd.concat(forecast_results, ignore_index=True)"
   ],
   "outputs": [
    {
     "data": {
      "text/plain": [
       "Validation: |          | 0/? [00:00<?, ?it/s]"
      ],
      "application/vnd.jupyter.widget-view+json": {
       "version_major": 2,
       "version_minor": 0,
       "model_id": "557cb29a251e48ad90f9580b5a6f4731"
      }
     },
     "metadata": {},
     "output_type": "display_data"
    },
    {
     "data": {
      "text/plain": [
       "Validation: |          | 0/? [00:00<?, ?it/s]"
      ],
      "application/vnd.jupyter.widget-view+json": {
       "version_major": 2,
       "version_minor": 0,
       "model_id": "dd2432ecc7944baf846807b84b1f41e7"
      }
     },
     "metadata": {},
     "output_type": "display_data"
    },
    {
     "data": {
      "text/plain": [
       "Validation: |          | 0/? [00:00<?, ?it/s]"
      ],
      "application/vnd.jupyter.widget-view+json": {
       "version_major": 2,
       "version_minor": 0,
       "model_id": "9864c8c00e8944b6bcd51a3e1ddc3ce5"
      }
     },
     "metadata": {},
     "output_type": "display_data"
    },
    {
     "data": {
      "text/plain": [
       "Validation: |          | 0/? [00:00<?, ?it/s]"
      ],
      "application/vnd.jupyter.widget-view+json": {
       "version_major": 2,
       "version_minor": 0,
       "model_id": "cbd666688a1f427b955d2fabddc2a9ee"
      }
     },
     "metadata": {},
     "output_type": "display_data"
    },
    {
     "data": {
      "text/plain": [
       "Validation: |          | 0/? [00:00<?, ?it/s]"
      ],
      "application/vnd.jupyter.widget-view+json": {
       "version_major": 2,
       "version_minor": 0,
       "model_id": "2515e72ba66344ce933bf9d7cac08f38"
      }
     },
     "metadata": {},
     "output_type": "display_data"
    },
    {
     "data": {
      "text/plain": [
       "Validation: |          | 0/? [00:00<?, ?it/s]"
      ],
      "application/vnd.jupyter.widget-view+json": {
       "version_major": 2,
       "version_minor": 0,
       "model_id": "7f7abe854f7a4982a0d30a9250267dc1"
      }
     },
     "metadata": {},
     "output_type": "display_data"
    },
    {
     "data": {
      "text/plain": [
       "Validation: |          | 0/? [00:00<?, ?it/s]"
      ],
      "application/vnd.jupyter.widget-view+json": {
       "version_major": 2,
       "version_minor": 0,
       "model_id": "f1f1d95f95e94663b6a7001093624b54"
      }
     },
     "metadata": {},
     "output_type": "display_data"
    },
    {
     "data": {
      "text/plain": [
       "Validation: |          | 0/? [00:00<?, ?it/s]"
      ],
      "application/vnd.jupyter.widget-view+json": {
       "version_major": 2,
       "version_minor": 0,
       "model_id": "527fa322a0e64eaca287a54e64659bc7"
      }
     },
     "metadata": {},
     "output_type": "display_data"
    },
    {
     "data": {
      "text/plain": [
       "Validation: |          | 0/? [00:00<?, ?it/s]"
      ],
      "application/vnd.jupyter.widget-view+json": {
       "version_major": 2,
       "version_minor": 0,
       "model_id": "161204186d84435782d5b96aa29fc97e"
      }
     },
     "metadata": {},
     "output_type": "display_data"
    },
    {
     "data": {
      "text/plain": [
       "Validation: |          | 0/? [00:00<?, ?it/s]"
      ],
      "application/vnd.jupyter.widget-view+json": {
       "version_major": 2,
       "version_minor": 0,
       "model_id": "6f6052f06ab049ea9854e64fe3fbd4ae"
      }
     },
     "metadata": {},
     "output_type": "display_data"
    },
    {
     "data": {
      "text/plain": [
       "Validation: |          | 0/? [00:00<?, ?it/s]"
      ],
      "application/vnd.jupyter.widget-view+json": {
       "version_major": 2,
       "version_minor": 0,
       "model_id": "9c6ff8b60e7042899167a135496af17d"
      }
     },
     "metadata": {},
     "output_type": "display_data"
    },
    {
     "data": {
      "text/plain": [
       "Validation: |          | 0/? [00:00<?, ?it/s]"
      ],
      "application/vnd.jupyter.widget-view+json": {
       "version_major": 2,
       "version_minor": 0,
       "model_id": "3e92f19f2b9140889071d91801bc53fa"
      }
     },
     "metadata": {},
     "output_type": "display_data"
    },
    {
     "data": {
      "text/plain": [
       "Validation: |          | 0/? [00:00<?, ?it/s]"
      ],
      "application/vnd.jupyter.widget-view+json": {
       "version_major": 2,
       "version_minor": 0,
       "model_id": "a67be29789b04661af03067b44a3833e"
      }
     },
     "metadata": {},
     "output_type": "display_data"
    }
   ],
   "execution_count": null
  },
  {
   "cell_type": "code",
   "id": "d3f5ee8969af75c",
   "metadata": {},
   "source": [
    "import matplotlib.pyplot as plt\n",
    "\n",
    "# Plotting\n",
    "fig, ax = plt.subplots(1, 1, figsize=(20, 7))\n",
    "\n",
    "# Plot predictions for model\n",
    "forecast_df.set_index('ds')['y_pred'].plot(ax=ax, linewidth=2, label= f'{model_name} Prediction')\n",
    "\n",
    "# Optional: Plot actual test values for comparison\n",
    "test_df.set_index('ds')['y'].plot(ax=ax, linewidth=2, label='Actual Price')\n",
    "\n",
    "# Formatting the plot\n",
    "ax.set_title('Electricity Price Forecast (Day-by-Day)', fontsize=22)\n",
    "ax.set_ylabel('Price', fontsize=20)\n",
    "ax.set_xlabel('Date', fontsize=20)\n",
    "ax.legend(prop={'size': 15})\n",
    "ax.grid()\n",
    "plt.show()"
   ],
   "outputs": [],
   "execution_count": null
  },
  {
   "cell_type": "code",
   "id": "a045c6ae9f12acb4",
   "metadata": {},
   "source": [
    "forecast_df.head()\n",
    "forecast_df.info()"
   ],
   "outputs": [],
   "execution_count": null
  },
  {
   "cell_type": "code",
   "id": "deb79251273840b5",
   "metadata": {},
   "source": [
    "from sklearn.metrics import mean_absolute_error, mean_squared_error\n",
    "import numpy as np\n",
    "\n",
    "# Calculate error metrics\n",
    "mae = mean_absolute_error(forecast_df['y_actual'], forecast_df['y_pred'])\n",
    "mse = mean_squared_error(forecast_df['y_actual'], forecast_df['y_pred'])\n",
    "rmse = np.sqrt(mse)\n",
    "\n",
    "# Print the results\n",
    "print(\"Model Performance:\")\n",
    "print(f\"Mean Absolute Error (MAE): {mae:.2f}\")\n",
    "print(f\"Mean Squared Error (MSE): {mse:.2f}\")\n",
    "print(f\"Root Mean Squared Error (RMSE): {rmse:.2f}\")"
   ],
   "outputs": [],
   "execution_count": null
  },
  {
   "cell_type": "code",
   "id": "42f68456480fc122",
   "metadata": {},
   "source": [
    "# Merge forecasted values with actual test data, selecting only the relevant columns\n",
    "comparison_df = forecast_df[['ds', 'y_pred']].merge(test_df[['ds', 'y']], on='ds', how='inner')\n",
    "comparison_df.rename(columns={'y': 'y_actual', 'y_pred': 'y_pred'}, inplace=True)\n",
    "\n",
    "# Add a column for the day of the week (0=Monday, 1=Tuesday, ..., 6=Sunday)\n",
    "comparison_df['day_of_week'] = comparison_df['ds'].dt.dayofweek\n",
    "\n",
    "# Calculate and display MAE, MSE, and RMSE for each day of the week\n",
    "metrics_by_day = {}\n",
    "\n",
    "for day in range(7):\n",
    "    # Filter data for each day of the week\n",
    "    day_data = comparison_df[comparison_df['day_of_week'] == day]\n",
    "\n",
    "    # Calculate the metrics for this day\n",
    "    mae = mean_absolute_error(day_data['y_actual'], day_data['y_pred'])\n",
    "    mse = mean_squared_error(day_data['y_actual'], day_data['y_pred'])\n",
    "    rmse = np.sqrt(mse)\n",
    "\n",
    "    # Store the metrics for each day\n",
    "    metrics_by_day[day] = {\n",
    "        'MAE': mae,\n",
    "        'MSE': mse,\n",
    "        'RMSE': rmse\n",
    "    }\n",
    "\n",
    "    # Print the results for each day\n",
    "    day_name = ['Monday', 'Tuesday', 'Wednesday', 'Thursday', 'Friday', 'Saturday', 'Sunday'][day]\n",
    "    print(f\"MAE of {model_name} for {day_name} is: {mae:.2f}\")\n",
    "    print(f\"MSE of {model_name} for {day_name} is: {mse:.2f}\")\n",
    "    print(f\"RMSE of {model_name} for {day_name} is: {rmse:.2f}\")\n",
    "    print('-' * 50)\n",
    "\n",
    "# Optionally, you can store these results in a DataFrame for easy viewing or further analysis\n",
    "metrics_df = pd.DataFrame(metrics_by_day).T\n",
    "print(\"\\nMetrics by Day of the Week:\")\n",
    "print(metrics_df)\n",
    "\n",
    "\n"
   ],
   "outputs": [],
   "execution_count": null
  },
  {
   "cell_type": "code",
   "id": "392d69da910ee7c7",
   "metadata": {},
   "source": [
    "overall_mean = test_df['y'].mean()\n",
    "\n",
    "# Print the overall mean\n",
    "print(f\"Overall Mean Price: {overall_mean}\")"
   ],
   "outputs": [],
   "execution_count": null
  },
  {
   "cell_type": "code",
   "id": "b2fd2e7b614fa0c",
   "metadata": {},
   "source": [
    "import matplotlib.pyplot as plt\n",
    "import pandas as pd\n",
    "\n",
    "# Ensure 'ds' is in datetime format\n",
    "forecast_df['ds'] = pd.to_datetime(forecast_df['ds'])\n",
    "test_df['ds'] = pd.to_datetime(test_df['ds'])\n",
    "\n",
    "# Create a new figure with multiple subplots, one for each month\n",
    "unique_months = forecast_df['ds'].dt.to_period('M').unique()\n",
    "\n",
    "# Set up the figure and axes for plotting\n",
    "fig, axes = plt.subplots(len(unique_months), 1, figsize=(20, 7 * len(unique_months)))\n",
    "\n",
    "if len(unique_months) == 1:\n",
    "    axes = [axes]  # Ensure axes is iterable even if there's only one subplot\n",
    "\n",
    "for i, month in enumerate(unique_months):\n",
    "    # Create the data subset for the current month\n",
    "    month_str = str(month)\n",
    "    forecast_month = forecast_df[forecast_df['ds'].dt.to_period('M') == month]\n",
    "    test_month = test_df[test_df['ds'].dt.to_period('M') == month]\n",
    "\n",
    "    # Plot predictions for the current month\n",
    "    axes[i].plot(forecast_month['ds'], forecast_month['y_pred'], linewidth=2, label=f'{model_name} Prediction')\n",
    "\n",
    "    # Plot actual test values for comparison in the current month\n",
    "    axes[i].plot(test_month['ds'], test_month['y'], linewidth=2, label='Actual Price')\n",
    "\n",
    "    # Formatting the plot for the current month\n",
    "    axes[i].set_title(f'Electricity Price Forecast - {month_str}', fontsize=22)\n",
    "    axes[i].set_ylabel('Price', fontsize=20)\n",
    "    axes[i].set_xlabel('Date', fontsize=20)\n",
    "    axes[i].legend(prop={'size': 15})\n",
    "    axes[i].grid()\n",
    "\n",
    "# Show the plot\n",
    "plt.tight_layout()\n",
    "plt.show()"
   ],
   "outputs": [],
   "execution_count": null
  },
  {
   "cell_type": "code",
   "id": "5116202d1f3ba257",
   "metadata": {},
   "source": [
    "import matplotlib.pyplot as plt\n",
    "import pandas as pd\n",
    "\n",
    "# Ensure 'ds' is in datetime format\n",
    "forecast_df['ds'] = pd.to_datetime(forecast_df['ds'])\n",
    "test_df['ds'] = pd.to_datetime(test_df['ds'])\n",
    "\n",
    "# Create a new figure with multiple subplots, one for each biweekly period\n",
    "# Group the data by biweekly periods\n",
    "forecast_df['biweek'] = forecast_df['ds'].dt.to_period('2W')\n",
    "test_df['biweek'] = test_df['ds'].dt.to_period('2W')\n",
    "\n",
    "# Get the unique biweekly periods\n",
    "unique_biweeks = forecast_df['biweek'].unique()\n",
    "\n",
    "# Set up the figure and axes for plotting\n",
    "fig, axes = plt.subplots(len(unique_biweeks), 1, figsize=(20, 7 * len(unique_biweeks)))\n",
    "\n",
    "if len(unique_biweeks) == 1:\n",
    "    axes = [axes]  # Ensure axes is iterable even if there's only one subplot\n",
    "\n",
    "for i, biweek in enumerate(unique_biweeks):\n",
    "    # Create the data subset for the current biweekly period\n",
    "    biweek_str = str(biweek)\n",
    "    forecast_biweek = forecast_df[forecast_df['biweek'] == biweek]\n",
    "    test_biweek = test_df[test_df['biweek'] == biweek]\n",
    "\n",
    "    # Plot predictions for the current biweekly period\n",
    "    axes[i].plot(forecast_biweek['ds'], forecast_biweek['y_pred'], linewidth=2, label=f'{model_name} Prediction')\n",
    "\n",
    "    # Plot actual test values for comparison in the current biweekly period\n",
    "    axes[i].plot(test_biweek['ds'], test_biweek['y'], linewidth=2, label='Actual Price')\n",
    "\n",
    "    # Formatting the plot for the current biweekly period\n",
    "    axes[i].set_title(f'Electricity Price Forecast - {biweek_str}', fontsize=22)\n",
    "    axes[i].set_ylabel('Price', fontsize=20)\n",
    "    axes[i].set_xlabel('Date', fontsize=20)\n",
    "    axes[i].legend(prop={'size': 15})\n",
    "    axes[i].grid()\n",
    "\n",
    "# Show the plot\n",
    "plt.tight_layout()\n",
    "plt.show()"
   ],
   "outputs": [],
   "execution_count": null
  }
 ],
 "metadata": {
  "kernelspec": {
   "display_name": "Python 3",
   "language": "python",
   "name": "python3"
  },
  "language_info": {
   "codemirror_mode": {
    "name": "ipython",
    "version": 2
   },
   "file_extension": ".py",
   "mimetype": "text/x-python",
   "name": "python",
   "nbconvert_exporter": "python",
   "pygments_lexer": "ipython2",
   "version": "2.7.6"
  }
 },
 "nbformat": 4,
 "nbformat_minor": 5
}
