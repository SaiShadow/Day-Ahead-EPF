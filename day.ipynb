{
 "cells": [
  {
   "metadata": {},
   "cell_type": "code",
   "source": [
    "import requests\n",
    "import pandas as pd\n",
    "import matplotlib.pyplot as plt\n",
    "from neuralforecast import NeuralForecast\n",
    "from neuralforecast.models import LSTM, NHITS\n",
    "\n",
    "# Fetch data from the API for training (1 year) and testing (1 month)\n",
    "url_train = \"https://api.energy-charts.info/price?bzn=DE-LU&start=2024-01-01&end=2024-09-01\"\n",
    "url_test = \"https://api.energy-charts.info/price?bzn=DE-LU&start=2024-09-01&end=2024-10-01\"\n",
    "\n",
    "response_train = requests.get(url_train)\n",
    "response_test = requests.get(url_test)\n",
    "\n",
    "data_train = response_train.json()\n",
    "data_test = response_test.json()\n",
    "\n",
    "# Convert to DataFrame\n",
    "train_df = pd.DataFrame({\n",
    "    'timestamp': pd.to_datetime(data_train['unix_seconds'], unit='s'),\n",
    "    'price': data_train['price']\n",
    "})\n",
    "test_df = pd.DataFrame({\n",
    "    'timestamp': pd.to_datetime(data_test['unix_seconds'], unit='s'),\n",
    "    'price': data_test['price']\n",
    "})\n",
    "\n",
    "# Clean the data (remove rows with null prices)\n",
    "train_df = train_df.dropna()\n",
    "test_df = test_df.dropna()\n",
    "\n",
    "# Rename columns for modeling\n",
    "train_df = train_df.rename(columns={'timestamp': 'ds', 'price': 'y'})\n",
    "test_df = test_df.rename(columns={'timestamp': 'ds', 'price': 'y'})\n",
    "train_df['unique_id'] = 'electricity_prices'\n",
    "test_df['unique_id'] = 'electricity_prices'\n",
    "\n"
   ],
   "id": "ba6135d372735730",
   "outputs": [],
   "execution_count": null
  },
  {
   "metadata": {
    "jupyter": {
     "is_executing": true
    }
   },
   "cell_type": "code",
   "source": [
    "\n",
    "# Define models with a 1-day forecast horizon\n",
    "models = [\n",
    "    LSTM(h=1, max_steps=200, scaler_type='standard', encoder_hidden_size=64, decoder_hidden_size=64),\n",
    "    NHITS(h=1, input_size=2, max_steps=100, n_freq_downsample=[2, 1, 1])\n",
    "]\n",
    "\n",
    "# Initialize the NeuralForecast object\n",
    "nf = NeuralForecast(models=models, freq='H')\n",
    "nf.fit(df=train_df)\n",
    "\n",
    "# Prepare for iterative day-ahead forecasting\n",
    "forecasted_values = []  # List to store the day-by-day forecasts\n",
    "input_df = train_df.copy()  # Start with the training data as the initial input\n",
    "\n",
    "# Perform day-ahead predictions for each day in the test set\n",
    "for i in range(len(test_df)):\n",
    "    # Generate the forecast for the next day\n",
    "    day_forecast = nf.predict().iloc[-1:]  # Take the last forecasted day\n",
    "    \n",
    "    # Append the forecast to the list for later use in plotting\n",
    "    forecasted_values.append({\n",
    "        'ds': test_df.iloc[i]['ds'],\n",
    "        'LSTM': day_forecast['LSTM'].values[0],\n",
    "        'NHITS': day_forecast['NHITS'].values[0]\n",
    "    })\n",
    "    \n",
    "    # Update the input data with the actual value of the next day in the test set\n",
    "    next_row = {'ds': test_df.iloc[i]['ds'], 'y': test_df.iloc[i]['y'], 'unique_id': 'electricity_prices'}\n",
    "    input_df = pd.concat([input_df, pd.DataFrame([next_row])])\n",
    "    nf.fit(df=input_df)  # Re-train or update the model with the expanded dataset\n",
    "\n",
    "# Convert the forecast list to a DataFrame for plotting\n",
    "forecast_df = pd.DataFrame(forecasted_values)\n",
    "\n",
    "# Ensure 'ds' columns are in datetime format\n",
    "test_df['ds'] = pd.to_datetime(test_df['ds'])\n",
    "forecast_df['ds'] = pd.to_datetime(forecast_df['ds'])\n",
    "\n"
   ],
   "id": "ee4cbd70aa0172df",
   "outputs": [
    {
     "name": "stdout",
     "output_type": "stream",
     "text": [
      "Epoch 83:   0%|          | 0/1 [00:00<?, ?it/s, v_num=65, train_loss_step=0.168, train_loss_epoch=0.168]        "
     ]
    }
   ],
   "execution_count": null
  },
  {
   "metadata": {},
   "cell_type": "code",
   "source": [
    "# Plotting\n",
    "fig, ax = plt.subplots(1, 1, figsize=(20, 7))\n",
    "test_df.set_index('ds')['y'].plot(ax=ax, linewidth=2, label='Actual Price')\n",
    "forecast_df.set_index('ds')['LSTM'].plot(ax=ax, linewidth=2, label='LSTM Prediction')\n",
    "forecast_df.set_index('ds')['NHITS'].plot(ax=ax, linewidth=2, label='NHITS Prediction')\n",
    "\n",
    "ax.set_title('Electricity Price Forecast (Day-by-Day)', fontsize=22)\n",
    "ax.set_ylabel('Price', fontsize=20)\n",
    "ax.set_xlabel('Date', fontsize=20)\n",
    "ax.legend(prop={'size': 15})\n",
    "ax.grid()\n",
    "plt.show()"
   ],
   "id": "d3f5ee8969af75c",
   "outputs": [],
   "execution_count": null
  }
 ],
 "metadata": {
  "kernelspec": {
   "display_name": "Python 3",
   "language": "python",
   "name": "python3"
  },
  "language_info": {
   "codemirror_mode": {
    "name": "ipython",
    "version": 2
   },
   "file_extension": ".py",
   "mimetype": "text/x-python",
   "name": "python",
   "nbconvert_exporter": "python",
   "pygments_lexer": "ipython2",
   "version": "2.7.6"
  }
 },
 "nbformat": 4,
 "nbformat_minor": 5
}
