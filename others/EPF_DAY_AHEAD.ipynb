{
 "cells": [
  {
   "metadata": {
    "ExecuteTime": {
     "end_time": "2024-11-07T08:20:56.033080Z",
     "start_time": "2024-11-07T08:20:53.975806Z"
    }
   },
   "cell_type": "code",
   "source": [
    "import requests\n",
    "import pandas as pd\n",
    "\n",
    "# Fetch data from the API for training (1 year) and testing (1 month)\n",
    "url_train = \"https://api.energy-charts.info/price?bzn=DE-LU&start=2024-01-01&end=2024-09-01\"\n",
    "url_test = \"https://api.energy-charts.info/price?bzn=DE-LU&start=2024-09-01&end=2024-10-01\"\n",
    "\n",
    "response_train = requests.get(url_train)\n",
    "response_test = requests.get(url_test)\n",
    "\n",
    "data_train = response_train.json()\n",
    "data_test = response_test.json()\n",
    "\n",
    "# Convert to DataFrame\n",
    "train_df = pd.DataFrame({\n",
    "    'timestamp': pd.to_datetime(data_train['unix_seconds'], unit='s'),\n",
    "    'price': data_train['price']\n",
    "})\n",
    "test_df = pd.DataFrame({\n",
    "    'timestamp': pd.to_datetime(data_test['unix_seconds'], unit='s'),\n",
    "    'price': data_test['price']\n",
    "})\n",
    "\n",
    "# Clean the data (remove rows with null prices)\n",
    "train_df = train_df.dropna()\n",
    "test_df = test_df.dropna()"
   ],
   "id": "a1314b19a653199f",
   "outputs": [],
   "execution_count": 19
  },
  {
   "metadata": {},
   "cell_type": "code",
   "source": "test_df.head(100)",
   "id": "27bc72e1b275d915",
   "outputs": [],
   "execution_count": null
  },
  {
   "metadata": {},
   "cell_type": "code",
   "source": "train_df.head(1000)",
   "id": "ae803c7b5b4320ac",
   "outputs": [],
   "execution_count": null
  },
  {
   "metadata": {},
   "cell_type": "code",
   "source": [
    "train_df = train_df.rename(columns={'timestamp': 'ds', 'price': 'y'})\n",
    "test_df = test_df.rename(columns={'timestamp': 'ds', 'price': 'y'})\n",
    "train_df['unique_id'] = 'electricity_prices'\n",
    "test_df['unique_id'] = 'electricity_prices'"
   ],
   "id": "3719325d62ca3c36",
   "outputs": [],
   "execution_count": null
  },
  {
   "metadata": {},
   "cell_type": "code",
   "source": [
    "from neuralforecast import NeuralForecast\n",
    "from neuralforecast.models import LSTM, NHITS\n",
    "\n",
    "horizon = len(test_df)\n",
    "\n",
    "models = [\n",
    "    LSTM(h=horizon,  # Forecast horizon (predict the next day's price)\n",
    "         max_steps=500,  # Number of steps to train\n",
    "         scaler_type='standard',  # Type of scaler\n",
    "         encoder_hidden_size=64,  # LSTM encoder hidden size\n",
    "         decoder_hidden_size=64),  # LSTM decoder hidden size\n",
    "    NHITS(h=horizon,  # Forecast horizon\n",
    "          input_size=2 * horizon,  # Input sequence length (using data from previous 2 days)\n",
    "          max_steps=100,  # Number of steps to train\n",
    "          n_freq_downsample=[2, 1, 1])  # Downsampling factors for the stack output\n",
    "]"
   ],
   "id": "ec312ac03ec75e8a",
   "outputs": [],
   "execution_count": null
  },
  {
   "metadata": {},
   "cell_type": "code",
   "source": [
    "nf = NeuralForecast(models=models, freq='H')  # Hourly data (adjust according to your data frequency)\n",
    "nf.fit(df=train_df)"
   ],
   "id": "dfdd223b0db43888",
   "outputs": [],
   "execution_count": null
  },
  {
   "metadata": {},
   "cell_type": "code",
   "source": [
    "Y_hat_df = nf.predict()\n",
    "Y_hat_df = Y_hat_df.reset_index()"
   ],
   "id": "7c13eadd0fe554e3",
   "outputs": [],
   "execution_count": null
  },
  {
   "metadata": {},
   "cell_type": "code",
   "source": "Y_hat_df.head(50)  # Check predictions",
   "id": "1869cfb3b329d275",
   "outputs": [],
   "execution_count": null
  },
  {
   "metadata": {},
   "cell_type": "code",
   "source": [
    "import matplotlib.pyplot as plt\n",
    "import pandas as pd\n",
    "\n",
    "# Ensure 'ds' columns are in datetime format\n",
    "test_df['ds'] = pd.to_datetime(test_df['ds'])\n",
    "Y_hat_df['ds'] = pd.to_datetime(Y_hat_df['ds'])\n",
    "\n",
    "# Print the last date in train_df and first date in Y_hat_df to verify continuity\n",
    "print(\"Last date in test_df:\", test_df['ds'].max())\n",
    "print(\"First date in Y_hat_df:\", Y_hat_df['ds'].min())\n",
    "\n",
    "# If dates are continuous, proceed to plot\n",
    "# Concatenate actual and forecasted data\n",
    "plot_df = pd.concat([\n",
    "    test_df[['ds', 'y']].set_index('ds'),\n",
    "    Y_hat_df[['ds', 'LSTM', 'NHITS']].set_index('ds')\n",
    "], axis=1)\n",
    "\n",
    "# Plotting\n",
    "fig, ax = plt.subplots(1, 1, figsize=(20, 7))\n",
    "plot_df[['y', 'LSTM', 'NHITS']].plot(ax=ax, linewidth=2)\n",
    "\n",
    "ax.set_title('Electricity Price Forecast', fontsize=22)\n",
    "ax.set_ylabel('Price', fontsize=20)\n",
    "ax.set_xlabel('Date', fontsize=20)\n",
    "ax.legend(prop={'size': 15})\n",
    "ax.grid()\n",
    "plt.show()"
   ],
   "id": "8a87cd9a5f62115b",
   "outputs": [],
   "execution_count": null
  }
 ],
 "metadata": {
  "kernelspec": {
   "display_name": "Python 3",
   "language": "python",
   "name": "python3"
  },
  "language_info": {
   "codemirror_mode": {
    "name": "ipython",
    "version": 2
   },
   "file_extension": ".py",
   "mimetype": "text/x-python",
   "name": "python",
   "nbconvert_exporter": "python",
   "pygments_lexer": "ipython2",
   "version": "2.7.6"
  }
 },
 "nbformat": 4,
 "nbformat_minor": 5
}
